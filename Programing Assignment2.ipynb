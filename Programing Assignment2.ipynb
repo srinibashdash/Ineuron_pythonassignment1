{
 "cells": [
  {
   "cell_type": "code",
   "execution_count": null,
   "metadata": {},
   "outputs": [],
   "source": []
  },
  {
   "cell_type": "code",
   "execution_count": null,
   "metadata": {},
   "outputs": [],
   "source": []
  },
  {
   "cell_type": "code",
   "execution_count": 11,
   "metadata": {},
   "outputs": [
    {
     "name": "stdout",
     "output_type": "stream",
     "text": [
      "Enter KM:3\n",
      "3.00 kilometers is equal to 1.86 miles\n"
     ]
    }
   ],
   "source": [
    "k=float(input(\"Enter KM:\"))\n",
    "M=0.62\n",
    "KTM=k*M\n",
    "print ('%0.2f kilometers is equal to %0.2f miles' %(k,KTM))"
   ]
  },
  {
   "cell_type": "code",
   "execution_count": 10,
   "metadata": {},
   "outputs": [
    {
     "name": "stdout",
     "output_type": "stream",
     "text": [
      "Enter Celcius:2\n",
      "2.00 celcius is equal to 35.60 Farenheit:\n"
     ]
    }
   ],
   "source": [
    "C=float(input('Enter Celcius:'))\n",
    "F=33.8\n",
    "CTF= (C*1.8)+32\n",
    "print ('%0.2f celcius is equal to %0.2f Farenheit:' %(C,CTF))"
   ]
  },
  {
   "cell_type": "code",
   "execution_count": 3,
   "metadata": {},
   "outputs": [
    {
     "name": "stdout",
     "output_type": "stream",
     "text": [
      "year:2019\n",
      "Month:6\n",
      "     June 2019\n",
      "Mo Tu We Th Fr Sa Su\n",
      "                1  2\n",
      " 3  4  5  6  7  8  9\n",
      "10 11 12 13 14 15 16\n",
      "17 18 19 20 21 22 23\n",
      "24 25 26 27 28 29 30\n",
      "\n"
     ]
    }
   ],
   "source": [
    "import calendar\n",
    "yy=int(input('year:'))\n",
    "mm=int(input('Month:'))\n",
    "print(calendar.month(yy, mm))"
   ]
  },
  {
   "cell_type": "code",
   "execution_count": 9,
   "metadata": {},
   "outputs": [
    {
     "name": "stdout",
     "output_type": "stream",
     "text": [
      "i:2\n",
      "j:7\n",
      "7 2\n"
     ]
    }
   ],
   "source": [
    "i=int(input('i:'))\n",
    "j=int(input('j:'))\n",
    "i,j=j,i\n",
    "print(i,j)"
   ]
  },
  {
   "cell_type": "code",
   "execution_count": 8,
   "metadata": {},
   "outputs": [
    {
     "name": "stdout",
     "output_type": "stream",
     "text": [
      "-1.0\n",
      "-1.5\n"
     ]
    }
   ],
   "source": [
    "import math\n",
    "x=2\n",
    "y=5\n",
    "z=3\n",
    "i= y * y - 4 * x * z \n",
    "j = math.sqrt(abs(i)) \n",
    "if i > 0: \n",
    "    print((-y + j)/(2 * x)) \n",
    "    print((-y - j)/(2 * x)) \n",
    "      \n",
    "elif i == 0: \n",
    "    print(-y / (2 * x)) \n",
    "      \n",
    "else:\n",
    "    print(- y / (2 * x), j) \n",
    "    print(- y / (2 * x), j)"
   ]
  },
  {
   "cell_type": "code",
   "execution_count": null,
   "metadata": {},
   "outputs": [],
   "source": []
  }
 ],
 "metadata": {
  "kernelspec": {
   "display_name": "Python 3",
   "language": "python",
   "name": "python3"
  },
  "language_info": {
   "codemirror_mode": {
    "name": "ipython",
    "version": 3
   },
   "file_extension": ".py",
   "mimetype": "text/x-python",
   "name": "python",
   "nbconvert_exporter": "python",
   "pygments_lexer": "ipython3",
   "version": "3.6.5"
  }
 },
 "nbformat": 4,
 "nbformat_minor": 2
}
